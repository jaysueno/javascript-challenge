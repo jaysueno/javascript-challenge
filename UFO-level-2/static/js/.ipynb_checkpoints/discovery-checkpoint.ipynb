{
 "cells": [
  {
   "cell_type": "code",
   "execution_count": 5,
   "metadata": {},
   "outputs": [],
   "source": [
    "import pandas as pd\n",
    "from data import datafile\n",
    "import json"
   ]
  },
  {
   "cell_type": "code",
   "execution_count": 10,
   "metadata": {},
   "outputs": [
    {
     "data": {
      "text/plain": [
       "{'datetime': '1/1/2010',\n",
       " 'city': 'bonita',\n",
       " 'state': 'ca',\n",
       " 'country': 'us',\n",
       " 'shape': 'light',\n",
       " 'durationMinutes': '13 minutes',\n",
       " 'comments': 'Three bright red lights witnessed floating stationary over San Diego New Years Day 2010'}"
      ]
     },
     "execution_count": 10,
     "metadata": {},
     "output_type": "execute_result"
    }
   ],
   "source": [
    "datafile[1]\n",
    "\n",
    "\n"
   ]
  },
  {
   "cell_type": "code",
   "execution_count": 11,
   "metadata": {},
   "outputs": [],
   "source": [
    "df = pd.DataFrame.from_dict(datafile, orient='columns')"
   ]
  },
  {
   "cell_type": "code",
   "execution_count": 12,
   "metadata": {},
   "outputs": [
    {
     "data": {
      "text/html": [
       "<div>\n",
       "<style scoped>\n",
       "    .dataframe tbody tr th:only-of-type {\n",
       "        vertical-align: middle;\n",
       "    }\n",
       "\n",
       "    .dataframe tbody tr th {\n",
       "        vertical-align: top;\n",
       "    }\n",
       "\n",
       "    .dataframe thead th {\n",
       "        text-align: right;\n",
       "    }\n",
       "</style>\n",
       "<table border=\"1\" class=\"dataframe\">\n",
       "  <thead>\n",
       "    <tr style=\"text-align: right;\">\n",
       "      <th></th>\n",
       "      <th>datetime</th>\n",
       "      <th>city</th>\n",
       "      <th>state</th>\n",
       "      <th>country</th>\n",
       "      <th>shape</th>\n",
       "      <th>durationMinutes</th>\n",
       "      <th>comments</th>\n",
       "    </tr>\n",
       "  </thead>\n",
       "  <tbody>\n",
       "    <tr>\n",
       "      <th>0</th>\n",
       "      <td>1/1/2010</td>\n",
       "      <td>benton</td>\n",
       "      <td>ar</td>\n",
       "      <td>us</td>\n",
       "      <td>circle</td>\n",
       "      <td>5 mins.</td>\n",
       "      <td>4 bright green circles high in the sky going i...</td>\n",
       "    </tr>\n",
       "    <tr>\n",
       "      <th>1</th>\n",
       "      <td>1/1/2010</td>\n",
       "      <td>bonita</td>\n",
       "      <td>ca</td>\n",
       "      <td>us</td>\n",
       "      <td>light</td>\n",
       "      <td>13 minutes</td>\n",
       "      <td>Three bright red lights witnessed floating sta...</td>\n",
       "    </tr>\n",
       "    <tr>\n",
       "      <th>2</th>\n",
       "      <td>1/1/2010</td>\n",
       "      <td>el cajon</td>\n",
       "      <td>ca</td>\n",
       "      <td>us</td>\n",
       "      <td>triangle</td>\n",
       "      <td>6 minutes</td>\n",
       "      <td>On New Years Eve I went outside to hear the ce...</td>\n",
       "    </tr>\n",
       "    <tr>\n",
       "      <th>3</th>\n",
       "      <td>1/1/2010</td>\n",
       "      <td>el cajon</td>\n",
       "      <td>ca</td>\n",
       "      <td>us</td>\n",
       "      <td>triangle</td>\n",
       "      <td>12 minutes</td>\n",
       "      <td>3 Red objects hovering over El Cajon CA</td>\n",
       "    </tr>\n",
       "    <tr>\n",
       "      <th>4</th>\n",
       "      <td>1/1/2010</td>\n",
       "      <td>fresno</td>\n",
       "      <td>ca</td>\n",
       "      <td>us</td>\n",
       "      <td>light</td>\n",
       "      <td>1 min</td>\n",
       "      <td>Fresno cal. bright light hovers over head then...</td>\n",
       "    </tr>\n",
       "    <tr>\n",
       "      <th>...</th>\n",
       "      <td>...</td>\n",
       "      <td>...</td>\n",
       "      <td>...</td>\n",
       "      <td>...</td>\n",
       "      <td>...</td>\n",
       "      <td>...</td>\n",
       "      <td>...</td>\n",
       "    </tr>\n",
       "    <tr>\n",
       "      <th>106</th>\n",
       "      <td>1/12/2010</td>\n",
       "      <td>waukesha</td>\n",
       "      <td>wi</td>\n",
       "      <td>us</td>\n",
       "      <td>disk</td>\n",
       "      <td>15minutes</td>\n",
       "      <td>five glowning globes over waukesha&amp;#44wi</td>\n",
       "    </tr>\n",
       "    <tr>\n",
       "      <th>107</th>\n",
       "      <td>1/12/2010</td>\n",
       "      <td>ceres</td>\n",
       "      <td>ca</td>\n",
       "      <td>us</td>\n",
       "      <td>fireball</td>\n",
       "      <td>30 seconds</td>\n",
       "      <td>Fireballs seen from Ceres&amp;#44 California</td>\n",
       "    </tr>\n",
       "    <tr>\n",
       "      <th>108</th>\n",
       "      <td>1/13/2010</td>\n",
       "      <td>white oak</td>\n",
       "      <td>pa</td>\n",
       "      <td>us</td>\n",
       "      <td>triangle</td>\n",
       "      <td>30 seconds</td>\n",
       "      <td>Blinking lights on a rectanglar shaped object ...</td>\n",
       "    </tr>\n",
       "    <tr>\n",
       "      <th>109</th>\n",
       "      <td>1/13/2010</td>\n",
       "      <td>ackerman</td>\n",
       "      <td>ms</td>\n",
       "      <td>us</td>\n",
       "      <td>light</td>\n",
       "      <td>2 hours</td>\n",
       "      <td>A bright light hovering in the southwestern sk...</td>\n",
       "    </tr>\n",
       "    <tr>\n",
       "      <th>110</th>\n",
       "      <td>1/13/2010</td>\n",
       "      <td>gulf breeze</td>\n",
       "      <td>fl</td>\n",
       "      <td>us</td>\n",
       "      <td>unknown</td>\n",
       "      <td>4 minutes</td>\n",
       "      <td>Bright orange object&amp;#44 rapid speed and direc...</td>\n",
       "    </tr>\n",
       "  </tbody>\n",
       "</table>\n",
       "<p>111 rows × 7 columns</p>\n",
       "</div>"
      ],
      "text/plain": [
       "      datetime         city state country     shape durationMinutes  \\\n",
       "0     1/1/2010       benton    ar      us    circle         5 mins.   \n",
       "1     1/1/2010       bonita    ca      us     light      13 minutes   \n",
       "2     1/1/2010     el cajon    ca      us  triangle       6 minutes   \n",
       "3     1/1/2010     el cajon    ca      us  triangle      12 minutes   \n",
       "4     1/1/2010       fresno    ca      us     light           1 min   \n",
       "..         ...          ...   ...     ...       ...             ...   \n",
       "106  1/12/2010     waukesha    wi      us      disk       15minutes   \n",
       "107  1/12/2010        ceres    ca      us  fireball      30 seconds   \n",
       "108  1/13/2010    white oak    pa      us  triangle      30 seconds   \n",
       "109  1/13/2010     ackerman    ms      us     light         2 hours   \n",
       "110  1/13/2010  gulf breeze    fl      us   unknown       4 minutes   \n",
       "\n",
       "                                              comments  \n",
       "0    4 bright green circles high in the sky going i...  \n",
       "1    Three bright red lights witnessed floating sta...  \n",
       "2    On New Years Eve I went outside to hear the ce...  \n",
       "3              3 Red objects hovering over El Cajon CA  \n",
       "4    Fresno cal. bright light hovers over head then...  \n",
       "..                                                 ...  \n",
       "106           five glowning globes over waukesha&#44wi  \n",
       "107           Fireballs seen from Ceres&#44 California  \n",
       "108  Blinking lights on a rectanglar shaped object ...  \n",
       "109  A bright light hovering in the southwestern sk...  \n",
       "110  Bright orange object&#44 rapid speed and direc...  \n",
       "\n",
       "[111 rows x 7 columns]"
      ]
     },
     "execution_count": 12,
     "metadata": {},
     "output_type": "execute_result"
    }
   ],
   "source": [
    "df"
   ]
  },
  {
   "cell_type": "code",
   "execution_count": 17,
   "metadata": {},
   "outputs": [
    {
     "data": {
      "text/plain": [
       "light        26\n",
       "triangle     18\n",
       "sphere       11\n",
       "unknown      11\n",
       "fireball      7\n",
       "other         7\n",
       "disk          5\n",
       "formation     5\n",
       "circle        4\n",
       "oval          3\n",
       "changing      3\n",
       "chevron       3\n",
       "teardrop      2\n",
       "cigar         2\n",
       "cylinder      1\n",
       "flash         1\n",
       "cross         1\n",
       "rectangle     1\n",
       "Name: shape, dtype: int64"
      ]
     },
     "execution_count": 17,
     "metadata": {},
     "output_type": "execute_result"
    }
   ],
   "source": [
    "df['shape'].value_counts()"
   ]
  },
  {
   "cell_type": "code",
   "execution_count": 18,
   "metadata": {},
   "outputs": [
    {
     "data": {
      "text/plain": [
       "us    109\n",
       "ca      2\n",
       "Name: country, dtype: int64"
      ]
     },
     "execution_count": 18,
     "metadata": {},
     "output_type": "execute_result"
    }
   ],
   "source": [
    " df['country'].value_counts()"
   ]
  },
  {
   "cell_type": "code",
   "execution_count": 22,
   "metadata": {},
   "outputs": [
    {
     "data": {
      "text/plain": [
       "ca    30\n",
       "fl    10\n",
       "ma     7\n",
       "co     4\n",
       "ny     4\n",
       "nc     4\n",
       "tx     4\n",
       "nj     3\n",
       "wi     3\n",
       "oh     3\n",
       "or     3\n",
       "ar     3\n",
       "mo     3\n",
       "ak     3\n",
       "ky     3\n",
       "az     2\n",
       "nm     2\n",
       "on     2\n",
       "ks     2\n",
       "ia     1\n",
       "wa     1\n",
       "pa     1\n",
       "mi     1\n",
       "la     1\n",
       "ga     1\n",
       "wv     1\n",
       "nh     1\n",
       "ct     1\n",
       "va     1\n",
       "tn     1\n",
       "in     1\n",
       "al     1\n",
       "ms     1\n",
       "md     1\n",
       "sc     1\n",
       "Name: state, dtype: int64"
      ]
     },
     "execution_count": 22,
     "metadata": {},
     "output_type": "execute_result"
    }
   ],
   "source": [
    "df['state'].value_counts()"
   ]
  },
  {
   "cell_type": "code",
   "execution_count": 23,
   "metadata": {},
   "outputs": [
    {
     "data": {
      "text/plain": [
       "el cajon      5\n",
       "san diego     3\n",
       "la mesa       2\n",
       "willow        2\n",
       "cleveland     2\n",
       "             ..\n",
       "walworth      1\n",
       "benton        1\n",
       "san pablo     1\n",
       "tomball       1\n",
       "cincinnati    1\n",
       "Name: city, Length: 102, dtype: int64"
      ]
     },
     "execution_count": 23,
     "metadata": {},
     "output_type": "execute_result"
    }
   ],
   "source": [
    "df['city'].value_counts()"
   ]
  },
  {
   "cell_type": "code",
   "execution_count": null,
   "metadata": {},
   "outputs": [],
   "source": []
  }
 ],
 "metadata": {
  "kernelspec": {
   "display_name": "Python 3",
   "language": "python",
   "name": "python3"
  },
  "language_info": {
   "codemirror_mode": {
    "name": "ipython",
    "version": 3
   },
   "file_extension": ".py",
   "mimetype": "text/x-python",
   "name": "python",
   "nbconvert_exporter": "python",
   "pygments_lexer": "ipython3",
   "version": "3.8.3"
  }
 },
 "nbformat": 4,
 "nbformat_minor": 4
}
